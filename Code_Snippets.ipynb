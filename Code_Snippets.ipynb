{
 "cells": [
  {
   "cell_type": "code",
   "execution_count": 13,
   "metadata": {},
   "outputs": [
    {
     "name": "stdout",
     "output_type": "stream",
     "text": [
      "[1, 2]\n"
     ]
    }
   ],
   "source": [
    "#Code Snippets\n",
    "\n",
    "#1..Assigning Elements to Different lists\n",
    "\"\"\"Three ways are there\n",
    "   1. listname.append(\" Value u want to insert\" ) \n",
    "   2. listname.insert(index, \" Value u want to insert at the index \")\n",
    "   3. listname.extend((\" value\", \"value\"))\"\"\"\n",
    "\n",
    "lst1 = []  #empty list\n",
    "\n",
    "lst1.append(1)\n",
    "lst1.append(2)\n",
    "\n",
    "print(lst1)\n"
   ]
  },
  {
   "cell_type": "code",
   "execution_count": 14,
   "metadata": {},
   "outputs": [
    {
     "name": "stdout",
     "output_type": "stream",
     "text": [
      "[3, 1, 2]\n"
     ]
    }
   ],
   "source": [
    "lst1.insert(0,3)\n",
    "print(lst1)"
   ]
  },
  {
   "cell_type": "code",
   "execution_count": 15,
   "metadata": {},
   "outputs": [
    {
     "name": "stdout",
     "output_type": "stream",
     "text": [
      "[3, 1, 2, 4, 7, 8]\n"
     ]
    }
   ],
   "source": [
    "lst1.extend((4,7,8))\n",
    "print(lst1)"
   ]
  },
  {
   "cell_type": "code",
   "execution_count": 17,
   "metadata": {},
   "outputs": [
    {
     "name": "stdout",
     "output_type": "stream",
     "text": [
      "a\n",
      "h\n",
      "q\n"
     ]
    }
   ],
   "source": [
    "#2 Accessing Elements from a tuple\n",
    "\"\"\" The elements in a tuple can be accessed\n",
    "    by using the function \n",
    "    tuplename[index] \"\"\"\n",
    "\n",
    "tple1 = ( 'a','s','h','i','q')\n",
    "print(tple1[0])\n",
    "print(tple1[2])\n",
    "print(tple1[4])"
   ]
  },
  {
   "cell_type": "code",
   "execution_count": 23,
   "metadata": {},
   "outputs": [
    {
     "name": "stdout",
     "output_type": "stream",
     "text": [
      "{'my': 18, 'name': 45, 'ashiq': 100}\n"
     ]
    }
   ],
   "source": [
    "#3 Deleting Different Dictionary Elements\n",
    "\"\"\" the elements in a dictionary can be deleted by \n",
    "    using del dictname[\"key\"]and dictname.pop(key, default)\"\"\"  #I dint understand the pop funcn\n",
    "\n",
    "dctnry = { \"my\" : 18,\n",
    "            \"name\" : 45,\n",
    "              \"is\" : 56,\n",
    "             \"ashiq\" : 100}\n",
    "\n",
    "del dctnry[\"is\"]\n",
    "print(dctnry)"
   ]
  },
  {
   "cell_type": "code",
   "execution_count": 22,
   "metadata": {},
   "outputs": [
    {
     "name": "stdout",
     "output_type": "stream",
     "text": [
      "{'name': 45, 'ashiq': 100}\n"
     ]
    }
   ],
   "source": [
    "dctnry.pop(\"my\", None)\n",
    "print(dctnry)"
   ]
  },
  {
   "cell_type": "code",
   "execution_count": null,
   "metadata": {},
   "outputs": [],
   "source": []
  }
 ],
 "metadata": {
  "kernelspec": {
   "display_name": "Python 3",
   "language": "python",
   "name": "python3"
  },
  "language_info": {
   "codemirror_mode": {
    "name": "ipython",
    "version": 3
   },
   "file_extension": ".py",
   "mimetype": "text/x-python",
   "name": "python",
   "nbconvert_exporter": "python",
   "pygments_lexer": "ipython3",
   "version": "3.7.6"
  }
 },
 "nbformat": 4,
 "nbformat_minor": 4
}
